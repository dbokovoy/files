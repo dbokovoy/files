{
 "cells": [
  {
   "cell_type": "code",
   "execution_count": 1,
   "id": "aa88707d-3807-4e7c-95d6-f292d775f703",
   "metadata": {},
   "outputs": [],
   "source": [
    "import pandas as pd\n",
    "import holidays\n",
    "import datetime"
   ]
  },
  {
   "cell_type": "code",
   "execution_count": 2,
   "id": "d9ea9c09-9498-4732-a473-6a3589ec18b4",
   "metadata": {},
   "outputs": [],
   "source": [
    "df_z = pd.read_excel('2.xlsx', sheet_name='Заявки')\n",
    "df_h = pd.read_excel('2.xlsx', sheet_name='Холды')"
   ]
  },
  {
   "cell_type": "code",
   "execution_count": 3,
   "id": "07c7a90d-689b-4be3-a56c-08bf045007bb",
   "metadata": {},
   "outputs": [
    {
     "name": "stdout",
     "output_type": "stream",
     "text": [
      "<class 'pandas.core.frame.DataFrame'>\n",
      "RangeIndex: 10689 entries, 0 to 10688\n",
      "Data columns (total 4 columns):\n",
      " #   Column      Non-Null Count  Dtype         \n",
      "---  ------      --------------  -----         \n",
      " 0   id_zayavki  10689 non-null  object        \n",
      " 1   hold        10689 non-null  object        \n",
      " 2   hold_start  10689 non-null  datetime64[ns]\n",
      " 3   hold_end    9582 non-null   datetime64[ns]\n",
      "dtypes: datetime64[ns](2), object(2)\n",
      "memory usage: 334.2+ KB\n"
     ]
    }
   ],
   "source": [
    "df_h.info()"
   ]
  },
  {
   "cell_type": "code",
   "execution_count": 4,
   "id": "edab2743-7033-42d1-8483-92c808fe6610",
   "metadata": {},
   "outputs": [
    {
     "name": "stdout",
     "output_type": "stream",
     "text": [
      "<class 'pandas.core.frame.DataFrame'>\n",
      "RangeIndex: 42209 entries, 0 to 42208\n",
      "Data columns (total 10 columns):\n",
      " #   Column                     Non-Null Count  Dtype \n",
      "---  ------                     --------------  ----- \n",
      " 0   ИД заявки                  42209 non-null  object\n",
      " 1   Вид оценки                 42209 non-null  object\n",
      " 2   Сегмент                    42209 non-null  object\n",
      " 3   подразделение эксперта     42209 non-null  object\n",
      " 4   Цель рассмотрения заявки   42209 non-null  object\n",
      " 5   Дата закрытия заявки       42209 non-null  object\n",
      " 6   Дата открытия заявки       42209 non-null  object\n",
      " 7   Назначение заявки          42209 non-null  object\n",
      " 8   Автоматизация заявки       42209 non-null  object\n",
      " 9   Классификатор Плышевского  42209 non-null  object\n",
      "dtypes: object(10)\n",
      "memory usage: 3.2+ MB\n"
     ]
    }
   ],
   "source": [
    "df_z.info()"
   ]
  },
  {
   "cell_type": "code",
   "execution_count": 5,
   "id": "a5e341b9-3efc-48dd-bc66-41dc98bcf003",
   "metadata": {},
   "outputs": [
    {
     "data": {
      "text/plain": [
       "ИД заявки                    1885\n",
       "Вид оценки                   1885\n",
       "Сегмент                      1885\n",
       "подразделение эксперта       1885\n",
       "Цель рассмотрения заявки     1885\n",
       "Дата закрытия заявки         1885\n",
       "Дата открытия заявки         1885\n",
       "Назначение заявки            1885\n",
       "Автоматизация заявки         1885\n",
       "Классификатор Плышевского    1885\n",
       "dtype: int64"
      ]
     },
     "execution_count": 5,
     "metadata": {},
     "output_type": "execute_result"
    }
   ],
   "source": [
    "df_z[df_z['Дата открытия заявки'] == '-1'].count()"
   ]
  },
  {
   "cell_type": "code",
   "execution_count": 6,
   "id": "977b7226-e2ad-4f92-b4b4-3c38734dfc9b",
   "metadata": {},
   "outputs": [],
   "source": [
    "df_z = df_z[df_z['Дата открытия заявки'] !='-1']\n",
    "df_z['Дата открытия заявки'] = df_z['Дата открытия заявки'].astype('datetime64[ns]')\n",
    "df_z['Дата закрытия заявки'] = df_z['Дата закрытия заявки'].astype('datetime64[ns]')"
   ]
  },
  {
   "cell_type": "markdown",
   "id": "f7a375a3-8500-49ec-8a29-16949092877b",
   "metadata": {},
   "source": [
    "В данном случае я заметил,что в некоторых строках в дате открытия стоит -1. Я бы уточнил что это значит и нет ли ошибки,\n",
    "но так как сейчас такой возможности нет, я исключу эти заявки, темболее что их около 5% от общей массы."
   ]
  },
  {
   "cell_type": "markdown",
   "id": "d5ab6105-15c0-4f71-905e-2b547c53f33d",
   "metadata": {},
   "source": [
    "В дальнейшем я буду учитывать -1 как отсутствие данных. Хоть его присутсиве в других столбцах и говорит что это не совсем верно."
   ]
  },
  {
   "cell_type": "markdown",
   "id": "de9adaba-5ca4-47c2-9495-b97ce23139b1",
   "metadata": {},
   "source": [
    "Теперь даты это даты,а с доп параметрами можно будет разбираться дальше. По ходу задач."
   ]
  },
  {
   "cell_type": "code",
   "execution_count": 7,
   "id": "051bab13-1c67-45d3-aa03-92a72ffa6fba",
   "metadata": {},
   "outputs": [],
   "source": [
    "merged_df = df_h.merge(df_z,left_on='id_zayavki', right_on='ИД заявки', how='left')\n",
    "df_h['hold_end'] = merged_df['Дата закрытия заявки']\n",
    "df_h['hold_end'] = df_h['hold_end'].astype('datetime64[ns]')"
   ]
  },
  {
   "cell_type": "markdown",
   "id": "acb440d6-2a0c-4ba4-9282-453b36e1b047",
   "metadata": {},
   "source": [
    "Я заполнил пропуски в окончании холдов с помощью дат закрытия заявкок"
   ]
  },
  {
   "cell_type": "markdown",
   "id": "f079ce26-53e8-4124-aa68-a1018fc29711",
   "metadata": {},
   "source": [
    "Все закрытия холда где null я сразу заполнил значениями"
   ]
  },
  {
   "cell_type": "markdown",
   "id": "f8a7e186-a846-4e11-b562-3202cf4f5c06",
   "metadata": {},
   "source": [
    "##### Определить общее время выполнения для каждой заявки как разницу между датами закрытия и открытия заявок (в сутках)."
   ]
  },
  {
   "cell_type": "code",
   "execution_count": 8,
   "id": "a0c311c4-a69a-481b-9961-c27df076d608",
   "metadata": {},
   "outputs": [],
   "source": [
    "def date_difference(row):\n",
    "    return row['Дата закрытия заявки'] - row['Дата открытия заявки']\n",
    "\n",
    "df_z['Длительность'] = df_z.apply(date_difference, axis=1).dt.days"
   ]
  },
  {
   "cell_type": "markdown",
   "id": "47cc04f3-f461-4b5c-a176-19ce8438e8d6",
   "metadata": {},
   "source": [
    "Я сделал это через функцию,которая находит разницу между концом и началом и выделяет из этого дни"
   ]
  },
  {
   "cell_type": "markdown",
   "id": "36555c34-97a5-4745-87a6-13b413fac3fc",
   "metadata": {},
   "source": [
    "##### Определить кол-во рабочих часов, необходимых для выполнения каждой заявки. "
   ]
  },
  {
   "cell_type": "code",
   "execution_count": null,
   "id": "cd17dcee-7940-4963-889c-3a1cb142a210",
   "metadata": {},
   "outputs": [],
   "source": [
    "# Задаем рабочие часы и исключения\n",
    "WORK_HOURS = {\n",
    "    'monday': [(9, 0, 18, 0)],\n",
    "    'tuesday': [(9, 0, 18, 0)],\n",
    "    'wednesday': [(9, 0, 18, 0)],\n",
    "    'thursday': [(9, 0, 18, 0)],\n",
    "    'friday': [(9, 0, 16, 45)]\n",
    "}\n",
    "\n",
    "LUNCH_BREAK = (12, 15, 13, 0)\n",
    "RU_HOLIDAYS = holidays.RU(years=[2022, 2023, 2024, 2025])  # Обновите года в зависимости от нужного периода\n",
    "\n",
    "def is_working_time(dt):\n",
    "    if dt.weekday() > 4 or dt.date() in RU_HOLIDAYS:\n",
    "        return False\n",
    "    day_name = dt.strftime('%A').lower()\n",
    "    for start_h, start_m, end_h, end_m in WORK_HOURS.get(day_name, []):\n",
    "        start_time = datetime.datetime(dt.year, dt.month, dt.day, start_h, start_m)\n",
    "        end_time = datetime.datetime(dt.year, dt.month, dt.day, end_h, end_m)\n",
    "        if start_time <= dt < end_time:\n",
    "            return not (datetime.datetime(dt.year, dt.month, dt.day, *LUNCH_BREAK[:2]) <= dt < datetime.datetime(dt.year, dt.month, dt.day, *LUNCH_BREAK[2:]))\n",
    "    return False\n",
    "\n",
    "def calculate_working_seconds(start_dt, end_dt):\n",
    "    current_dt = start_dt\n",
    "    working_seconds = 0\n",
    "    while current_dt < end_dt:\n",
    "        if is_working_time(current_dt):\n",
    "            working_seconds += 60  # Прибавляем минуту, если это рабочее время\n",
    "        current_dt += datetime.timedelta(minutes=1)\n",
    "    return working_seconds\n",
    "\n",
    "\n",
    "# Вычисляем рабочие часы для каждой строки в DataFrame\n",
    "df_z['working_seconds'] = df_z.apply(lambda row: calculate_working_seconds(row['Дата открытия заявки'], row['Дата закрытия заявки']), axis=1)\n",
    "df_z"
   ]
  }
 ],
 "metadata": {
  "kernelspec": {
   "display_name": "Python 3 (ipykernel)",
   "language": "python",
   "name": "python3"
  },
  "language_info": {
   "codemirror_mode": {
    "name": "ipython",
    "version": 3
   },
   "file_extension": ".py",
   "mimetype": "text/x-python",
   "name": "python",
   "nbconvert_exporter": "python",
   "pygments_lexer": "ipython3",
   "version": "3.13.2"
  }
 },
 "nbformat": 4,
 "nbformat_minor": 5
}
